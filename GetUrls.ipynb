{
  "nbformat": 4,
  "nbformat_minor": 0,
  "metadata": {
    "colab": {
      "provenance": []
    },
    "kernelspec": {
      "name": "python3",
      "display_name": "Python 3"
    },
    "language_info": {
      "name": "python"
    }
  },
  "cells": [
    {
      "cell_type": "code",
      "execution_count": null,
      "metadata": {
        "id": "miT3RpoEB-OJ"
      },
      "outputs": [],
      "source": [
        "import requests\n",
        "from bs4 import BeautifulSoup\n",
        "\n",
        "def get_links(url):\n",
        "    response = requests.get(url)\n",
        "    soup = BeautifulSoup(response.text, \"html.parser\")\n",
        "    links = [link.get(\"href\") for link in soup.find_all(\"a\")]\n",
        "    return links\n",
        "\n",
        "def save_links_to_file(links, filename):\n",
        "    with open(filename, 'a') as file:\n",
        "        for link in links[:10]:\n",
        "            print(link, file=file)\n",
        "\n",
        "def main():\n",
        "    url = input(\"Enter Link: \")\n",
        "    if url.startswith((\"https://\", \"http://\")):\n",
        "        data = requests.get(url)\n",
        "    else:\n",
        "        data = requests.get(\"https://\" + url)\n",
        "\n",
        "    links = get_links(url)\n",
        "    save_links_to_file(links, \"myLinksTam.txt\")\n",
        "\n",
        "if __name__ == \"__main__\":\n",
        "    main()\n"
      ]
    },
    {
      "cell_type": "code",
      "source": [],
      "metadata": {
        "id": "f-WlzP6xIOwz"
      },
      "execution_count": null,
      "outputs": []
    }
  ]
}